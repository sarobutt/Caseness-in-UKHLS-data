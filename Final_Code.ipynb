{
  "nbformat": 4,
  "nbformat_minor": 0,
  "metadata": {
    "colab": {
      "provenance": [],
      "collapsed_sections": [],
      "mount_file_id": "1LR_AY21iSYC7pZWX9U2xuKIQ-QSoaTbc",
      "authorship_tag": "ABX9TyMYqwS3CUcxk0z8S1bf4YrN",
      "include_colab_link": true
    },
    "kernelspec": {
      "name": "python3",
      "display_name": "Python 3"
    },
    "language_info": {
      "name": "python"
    }
  },
  "cells": [
    {
      "cell_type": "markdown",
      "metadata": {
        "id": "view-in-github",
        "colab_type": "text"
      },
      "source": [
        "<a href=\"https://colab.research.google.com/github/sarobutt/Caseness-in-UKHLS-data/blob/main/Final_Code.ipynb\" target=\"_parent\"><img src=\"https://colab.research.google.com/assets/colab-badge.svg\" alt=\"Open In Colab\"/></a>"
      ]
    },
    {
      "cell_type": "markdown",
      "source": [
        "# ***Importing Libraries***"
      ],
      "metadata": {
        "id": "hkM8TKnlTuA-"
      }
    },
    {
      "cell_type": "code",
      "execution_count": null,
      "metadata": {
        "id": "H3npjrhkTcfD"
      },
      "outputs": [],
      "source": [
        "import pandas as pd\n",
        "import pylab as p\n",
        "from sklearn.model_selection import train_test_split\n",
        "import numpy as np\n",
        "import math\n",
        "from sklearn import preprocessing\n",
        "from sklearn import metrics\n",
        "from sklearn.neighbors import KNeighborsClassifier\n",
        "from sklearn.metrics import accuracy_score\n",
        "from sklearn.metrics import confusion_matrix\n",
        "from sklearn.metrics import classification_report, confusion_matrix\n",
        "from sklearn import svm\n",
        "from sklearn.datasets import make_regression\n",
        "from sklearn.preprocessing import MinMaxScaler\n",
        "from collections import Counter\n",
        "from sklearn.datasets import make_classification\n",
        "from imblearn.over_sampling import RandomOverSampler \n",
        "import imblearn\n",
        "from google.colab import drive\n",
        "from imblearn import under_sampling, over_sampling\n",
        "from imblearn.over_sampling import RandomOverSampler\n",
        "from imblearn.under_sampling import RandomUnderSampler\n",
        "from sklearn.model_selection import KFold \n",
        "from sklearn.linear_model import LogisticRegression\n",
        "from sklearn.metrics import confusion_matrix, accuracy_score\n",
        "from matplotlib import pyplot\n",
        "from collections import Counter\n",
        "from matplotlib import pyplot as plt\n",
        "from sklearn.preprocessing import StandardScaler\n",
        "from sklearn.model_selection import train_test_split\n",
        "from sklearn.ensemble import RandomForestClassifier\n",
        "from sklearn.metrics import precision_score\n",
        "from sklearn.metrics import recall_score\n",
        "from sklearn.metrics import f1_score\n",
        "from sklearn.metrics import precision_recall_fscore_support\n",
        "from sklearn.metrics import log_loss\n",
        "from sklearn.metrics import roc_curve, roc_auc_score"
      ]
    },
    {
      "cell_type": "markdown",
      "source": [
        "# ***Data Check and Preprocessing***"
      ],
      "metadata": {
        "id": "7KZGtdBNTyRW"
      }
    },
    {
      "cell_type": "code",
      "source": [
        "df=pd.read_csv('/content/drive/MyDrive/dataframe.csv')\n",
        "df\n",
        "df.describe\n",
        "df['k_scghq2_dv'].value_counts()"
      ],
      "metadata": {
        "colab": {
          "base_uri": "https://localhost:8080/"
        },
        "id": "iwezIhMkTmHv",
        "outputId": "5d1750bc-fa74-440d-bbf7-733fd5e11819"
      },
      "execution_count": null,
      "outputs": [
        {
          "output_type": "execute_result",
          "data": {
            "text/plain": [
              "0     14691\n",
              "1      3624\n",
              "2      1856\n",
              "3      1296\n",
              "4       944\n",
              "5       745\n",
              "6       705\n",
              "7       600\n",
              "8       536\n",
              "9       467\n",
              "12      465\n",
              "11      441\n",
              "10      433\n",
              "Name: k_scghq2_dv, dtype: int64"
            ]
          },
          "metadata": {},
          "execution_count": 2
        }
      ]
    },
    {
      "cell_type": "code",
      "source": [
        "k_scghq2_dv = []\n",
        "for i in df['k_scghq2_dv']:\n",
        "    if i < 4:\n",
        "        k_scghq2_dv.append(0)\n",
        "    else :\n",
        "        k_scghq2_dv.append(1)\n",
        "df['Target variable'] = k_scghq2_dv\n",
        "df.drop('k_scghq2_dv', axis = 1, inplace = True)\n",
        "df.head()"
      ],
      "metadata": {
        "colab": {
          "base_uri": "https://localhost:8080/",
          "height": 268
        },
        "id": "PUxtKaBiTrC2",
        "outputId": "119ca4c2-1ebd-4d73-bf9d-02626a4ef579"
      },
      "execution_count": null,
      "outputs": [
        {
          "output_type": "execute_result",
          "data": {
            "text/plain": [
              "   k_smoker  k_sex  k_age_dv  k_finfut  k_marstat_dv  k_scfcritic  \\\n",
              "0         2      2        34         3             1            1   \n",
              "1         2      2        42         2             4            3   \n",
              "2         2      2        36         2             1            4   \n",
              "3         2      2        40         1             1            4   \n",
              "4         2      2        29         1             1            4   \n",
              "\n",
              "   k_scfundstnd  k_scfrely  k_health  k_auditc1  k_hiqual_dv  k_jbstat  \\\n",
              "0             1          1         2          1            1         5   \n",
              "1             3          2         1          2            1         2   \n",
              "2             3          1         2          2            3         5   \n",
              "3             3          2         2          1            4         2   \n",
              "4             1          1         2          1            2         2   \n",
              "\n",
              "   k_fimngrs_dv  Target variable  \n",
              "0   2905.199951                1  \n",
              "1   3209.000000                0  \n",
              "2   4363.000000                0  \n",
              "3   2663.000000                0  \n",
              "4   2700.000000                0  "
            ],
            "text/html": [
              "\n",
              "  <div id=\"df-dfa40870-1e12-4f3b-9d1d-4b7dbc091f16\">\n",
              "    <div class=\"colab-df-container\">\n",
              "      <div>\n",
              "<style scoped>\n",
              "    .dataframe tbody tr th:only-of-type {\n",
              "        vertical-align: middle;\n",
              "    }\n",
              "\n",
              "    .dataframe tbody tr th {\n",
              "        vertical-align: top;\n",
              "    }\n",
              "\n",
              "    .dataframe thead th {\n",
              "        text-align: right;\n",
              "    }\n",
              "</style>\n",
              "<table border=\"1\" class=\"dataframe\">\n",
              "  <thead>\n",
              "    <tr style=\"text-align: right;\">\n",
              "      <th></th>\n",
              "      <th>k_smoker</th>\n",
              "      <th>k_sex</th>\n",
              "      <th>k_age_dv</th>\n",
              "      <th>k_finfut</th>\n",
              "      <th>k_marstat_dv</th>\n",
              "      <th>k_scfcritic</th>\n",
              "      <th>k_scfundstnd</th>\n",
              "      <th>k_scfrely</th>\n",
              "      <th>k_health</th>\n",
              "      <th>k_auditc1</th>\n",
              "      <th>k_hiqual_dv</th>\n",
              "      <th>k_jbstat</th>\n",
              "      <th>k_fimngrs_dv</th>\n",
              "      <th>Target variable</th>\n",
              "    </tr>\n",
              "  </thead>\n",
              "  <tbody>\n",
              "    <tr>\n",
              "      <th>0</th>\n",
              "      <td>2</td>\n",
              "      <td>2</td>\n",
              "      <td>34</td>\n",
              "      <td>3</td>\n",
              "      <td>1</td>\n",
              "      <td>1</td>\n",
              "      <td>1</td>\n",
              "      <td>1</td>\n",
              "      <td>2</td>\n",
              "      <td>1</td>\n",
              "      <td>1</td>\n",
              "      <td>5</td>\n",
              "      <td>2905.199951</td>\n",
              "      <td>1</td>\n",
              "    </tr>\n",
              "    <tr>\n",
              "      <th>1</th>\n",
              "      <td>2</td>\n",
              "      <td>2</td>\n",
              "      <td>42</td>\n",
              "      <td>2</td>\n",
              "      <td>4</td>\n",
              "      <td>3</td>\n",
              "      <td>3</td>\n",
              "      <td>2</td>\n",
              "      <td>1</td>\n",
              "      <td>2</td>\n",
              "      <td>1</td>\n",
              "      <td>2</td>\n",
              "      <td>3209.000000</td>\n",
              "      <td>0</td>\n",
              "    </tr>\n",
              "    <tr>\n",
              "      <th>2</th>\n",
              "      <td>2</td>\n",
              "      <td>2</td>\n",
              "      <td>36</td>\n",
              "      <td>2</td>\n",
              "      <td>1</td>\n",
              "      <td>4</td>\n",
              "      <td>3</td>\n",
              "      <td>1</td>\n",
              "      <td>2</td>\n",
              "      <td>2</td>\n",
              "      <td>3</td>\n",
              "      <td>5</td>\n",
              "      <td>4363.000000</td>\n",
              "      <td>0</td>\n",
              "    </tr>\n",
              "    <tr>\n",
              "      <th>3</th>\n",
              "      <td>2</td>\n",
              "      <td>2</td>\n",
              "      <td>40</td>\n",
              "      <td>1</td>\n",
              "      <td>1</td>\n",
              "      <td>4</td>\n",
              "      <td>3</td>\n",
              "      <td>2</td>\n",
              "      <td>2</td>\n",
              "      <td>1</td>\n",
              "      <td>4</td>\n",
              "      <td>2</td>\n",
              "      <td>2663.000000</td>\n",
              "      <td>0</td>\n",
              "    </tr>\n",
              "    <tr>\n",
              "      <th>4</th>\n",
              "      <td>2</td>\n",
              "      <td>2</td>\n",
              "      <td>29</td>\n",
              "      <td>1</td>\n",
              "      <td>1</td>\n",
              "      <td>4</td>\n",
              "      <td>1</td>\n",
              "      <td>1</td>\n",
              "      <td>2</td>\n",
              "      <td>1</td>\n",
              "      <td>2</td>\n",
              "      <td>2</td>\n",
              "      <td>2700.000000</td>\n",
              "      <td>0</td>\n",
              "    </tr>\n",
              "  </tbody>\n",
              "</table>\n",
              "</div>\n",
              "      <button class=\"colab-df-convert\" onclick=\"convertToInteractive('df-dfa40870-1e12-4f3b-9d1d-4b7dbc091f16')\"\n",
              "              title=\"Convert this dataframe to an interactive table.\"\n",
              "              style=\"display:none;\">\n",
              "        \n",
              "  <svg xmlns=\"http://www.w3.org/2000/svg\" height=\"24px\"viewBox=\"0 0 24 24\"\n",
              "       width=\"24px\">\n",
              "    <path d=\"M0 0h24v24H0V0z\" fill=\"none\"/>\n",
              "    <path d=\"M18.56 5.44l.94 2.06.94-2.06 2.06-.94-2.06-.94-.94-2.06-.94 2.06-2.06.94zm-11 1L8.5 8.5l.94-2.06 2.06-.94-2.06-.94L8.5 2.5l-.94 2.06-2.06.94zm10 10l.94 2.06.94-2.06 2.06-.94-2.06-.94-.94-2.06-.94 2.06-2.06.94z\"/><path d=\"M17.41 7.96l-1.37-1.37c-.4-.4-.92-.59-1.43-.59-.52 0-1.04.2-1.43.59L10.3 9.45l-7.72 7.72c-.78.78-.78 2.05 0 2.83L4 21.41c.39.39.9.59 1.41.59.51 0 1.02-.2 1.41-.59l7.78-7.78 2.81-2.81c.8-.78.8-2.07 0-2.86zM5.41 20L4 18.59l7.72-7.72 1.47 1.35L5.41 20z\"/>\n",
              "  </svg>\n",
              "      </button>\n",
              "      \n",
              "  <style>\n",
              "    .colab-df-container {\n",
              "      display:flex;\n",
              "      flex-wrap:wrap;\n",
              "      gap: 12px;\n",
              "    }\n",
              "\n",
              "    .colab-df-convert {\n",
              "      background-color: #E8F0FE;\n",
              "      border: none;\n",
              "      border-radius: 50%;\n",
              "      cursor: pointer;\n",
              "      display: none;\n",
              "      fill: #1967D2;\n",
              "      height: 32px;\n",
              "      padding: 0 0 0 0;\n",
              "      width: 32px;\n",
              "    }\n",
              "\n",
              "    .colab-df-convert:hover {\n",
              "      background-color: #E2EBFA;\n",
              "      box-shadow: 0px 1px 2px rgba(60, 64, 67, 0.3), 0px 1px 3px 1px rgba(60, 64, 67, 0.15);\n",
              "      fill: #174EA6;\n",
              "    }\n",
              "\n",
              "    [theme=dark] .colab-df-convert {\n",
              "      background-color: #3B4455;\n",
              "      fill: #D2E3FC;\n",
              "    }\n",
              "\n",
              "    [theme=dark] .colab-df-convert:hover {\n",
              "      background-color: #434B5C;\n",
              "      box-shadow: 0px 1px 3px 1px rgba(0, 0, 0, 0.15);\n",
              "      filter: drop-shadow(0px 1px 2px rgba(0, 0, 0, 0.3));\n",
              "      fill: #FFFFFF;\n",
              "    }\n",
              "  </style>\n",
              "\n",
              "      <script>\n",
              "        const buttonEl =\n",
              "          document.querySelector('#df-dfa40870-1e12-4f3b-9d1d-4b7dbc091f16 button.colab-df-convert');\n",
              "        buttonEl.style.display =\n",
              "          google.colab.kernel.accessAllowed ? 'block' : 'none';\n",
              "\n",
              "        async function convertToInteractive(key) {\n",
              "          const element = document.querySelector('#df-dfa40870-1e12-4f3b-9d1d-4b7dbc091f16');\n",
              "          const dataTable =\n",
              "            await google.colab.kernel.invokeFunction('convertToInteractive',\n",
              "                                                     [key], {});\n",
              "          if (!dataTable) return;\n",
              "\n",
              "          const docLinkHtml = 'Like what you see? Visit the ' +\n",
              "            '<a target=\"_blank\" href=https://colab.research.google.com/notebooks/data_table.ipynb>data table notebook</a>'\n",
              "            + ' to learn more about interactive tables.';\n",
              "          element.innerHTML = '';\n",
              "          dataTable['output_type'] = 'display_data';\n",
              "          await google.colab.output.renderOutput(dataTable, element);\n",
              "          const docLink = document.createElement('div');\n",
              "          docLink.innerHTML = docLinkHtml;\n",
              "          element.appendChild(docLink);\n",
              "        }\n",
              "      </script>\n",
              "    </div>\n",
              "  </div>\n",
              "  "
            ]
          },
          "metadata": {},
          "execution_count": 3
        }
      ]
    },
    {
      "cell_type": "markdown",
      "source": [
        "# ***Splitting the Predictor and Response Variable***"
      ],
      "metadata": {
        "id": "SudbmgYeT2gc"
      }
    },
    {
      "cell_type": "code",
      "source": [
        "X=df.drop(df.columns[13], axis=1)\n",
        "y=df['Target variable']"
      ],
      "metadata": {
        "id": "iZ2N-zUTT2xX"
      },
      "execution_count": null,
      "outputs": []
    },
    {
      "cell_type": "markdown",
      "source": [
        "# ***Logistic Regression***"
      ],
      "metadata": {
        "id": "pDi9De_JUAIm"
      }
    },
    {
      "cell_type": "code",
      "source": [
        "X_train, X_test, y_train, y_test = train_test_split(X, y, test_size=0.25,random_state=109) # 70% training and 30% test\n",
        "sc = StandardScaler()\n",
        "\n",
        "X_train = sc.fit_transform(X_train)\n",
        "\n",
        "X_test = sc.transform(X_test)\n",
        "LogReg_clf = LogisticRegression(random_state = 0)\n",
        "\n",
        "LogReg_clf.fit(X_train, y_train)\n",
        "y_pred = LogReg_clf.predict(X_test)\n",
        "acc =  (accuracy_score(y_test, y_pred))*100\n",
        "\n",
        "cm = confusion_matrix(y_test, y_pred)\n",
        "\n",
        "print('Acuuracy is:', acc)\n",
        "\n",
        "print(\"Confusion Matrix \\n\", cm)\n"
      ],
      "metadata": {
        "colab": {
          "base_uri": "https://localhost:8080/"
        },
        "id": "6VeEovuZUJPY",
        "outputId": "6151b014-3f46-4a02-c50b-0fb709a88778"
      },
      "execution_count": null,
      "outputs": [
        {
          "output_type": "stream",
          "name": "stdout",
          "text": [
            "Acuuracy is: 81.18191314729145\n",
            "Confusion Matrix \n",
            " [[5374   40]\n",
            " [1221   66]]\n"
          ]
        }
      ]
    },
    {
      "cell_type": "code",
      "source": [
        "print('F1-score',f1_score(y_test, y_pred, average=\"macro\"))\n",
        "print('Precision',precision_score(y_test, y_pred, average=\"macro\"))\n",
        "print('Recall',recall_score(y_test, y_pred, average=\"macro\"))   \n",
        "logloss = log_loss(y_test, LogReg_clf.predict_proba(X_test))\n",
        "print('Log loss',logloss) \n",
        "\n",
        "importance = LogReg_clf.coef_[0]\n",
        "for i,v in enumerate(importance):\n",
        "\tprint('Feature: %0d, Score: %.5f' % (i,v))\n",
        "# plot feature importance\n",
        "pyplot.bar([x for x in range(len(importance))], importance)\n",
        "print('Feature Importance')\n",
        "pyplot.show()\n"
      ],
      "metadata": {
        "colab": {
          "base_uri": "https://localhost:8080/",
          "height": 586
        },
        "id": "3NbetKncUOuK",
        "outputId": "f0e84029-6f4f-4c30-8b92-cf4e1bdbe9fc"
      },
      "execution_count": null,
      "outputs": [
        {
          "output_type": "stream",
          "name": "stdout",
          "text": [
            "F1-score 0.49487746597326476\n",
            "Precision 0.7187506258314618\n",
            "Recall 0.5219468993019049\n",
            "Log loss 0.45038390836582387\n",
            "Feature: 0, Score: -0.09532\n",
            "Feature: 1, Score: 0.33089\n",
            "Feature: 2, Score: -0.27544\n",
            "Feature: 3, Score: -0.12070\n",
            "Feature: 4, Score: 0.07725\n",
            "Feature: 5, Score: -0.09803\n",
            "Feature: 6, Score: 0.14418\n",
            "Feature: 7, Score: 0.14840\n",
            "Feature: 8, Score: -0.46246\n",
            "Feature: 9, Score: 0.01305\n",
            "Feature: 10, Score: -0.08908\n",
            "Feature: 11, Score: 0.02733\n",
            "Feature: 12, Score: -0.00914\n",
            "Feature Importance\n"
          ]
        },
        {
          "output_type": "display_data",
          "data": {
            "text/plain": [
              "<Figure size 432x288 with 1 Axes>"
            ],
            "image/png": "[encoded data removed]"
          },
          "metadata": {
            "needs_background": "light"
          }
        }
      ]
    },
    {
      "cell_type": "markdown",
      "source": [
        "# ***AUC-ROC***"
      ],
      "metadata": {
        "id": "-SykV9yjUTB8"
      }
    },
    {
      "cell_type": "code",
      "source": [
        "ns_probs = [0 for _ in range(len(y_test))]\n",
        "lr_probs = LogReg_clf.predict_proba(X_test)\n",
        "# keep probabilities for the positive outcome only\n",
        "lr_probs = lr_probs[:, 1]\n",
        "# calculate scores\n",
        "ns_auc = roc_auc_score(y_test, ns_probs)\n",
        "lr_auc = roc_auc_score(y_test, lr_probs)\n",
        "# summarize scores\n",
        "print('No Skill: ROC AUC=%.3f' % (ns_auc))\n",
        "print('Logistic: ROC AUC=%.3f' % (lr_auc))\n",
        "# calculate roc curves\n",
        "ns_fpr, ns_tpr, _ = roc_curve(y_test, ns_probs)\n",
        "lr_fpr, lr_tpr, _ = roc_curve(y_test, lr_probs)\n",
        "# plot the roc curve for the model\n",
        "pyplot.plot(ns_fpr, ns_tpr, linestyle='--', label='No Skill')\n",
        "pyplot.plot(lr_fpr, lr_tpr, marker='.', label='Logistic')\n",
        "# axis labels\n",
        "pyplot.xlabel('False Positive Rate')\n",
        "pyplot.ylabel('True Positive Rate')\n",
        "# show the legend\n",
        "pyplot.legend()\n",
        "# show the plot\n",
        "pyplot.show()\n",
        "# calculate roc curve\n",
        "fpr, tpr, thresholds = roc_curve(y_test, y_pred)\n",
        "auc = roc_auc_score(y_test, y_pred)\n",
        "print('AUC: %.3f' % auc)"
      ],
      "metadata": {
        "colab": {
          "base_uri": "https://localhost:8080/",
          "height": 333
        },
        "id": "EITvLHyHUSeB",
        "outputId": "22aeead5-100d-451d-eb88-24d2aadbacd4"
      },
      "execution_count": null,
      "outputs": [
        {
          "output_type": "stream",
          "name": "stdout",
          "text": [
            "No Skill: ROC AUC=0.500\n",
            "Logistic: ROC AUC=0.696\n"
          ]
        },
        {
          "output_type": "display_data",
          "data": {
            "text/plain": [
              "<Figure size 432x288 with 1 Axes>"
            ],
            "image/png": "[encoded data removed]"
          },
          "metadata": {
            "needs_background": "light"
          }
        },
        {
          "output_type": "stream",
          "name": "stdout",
          "text": [
            "AUC: 0.522\n"
          ]
        }
      ]
    },
    {
      "cell_type": "markdown",
      "source": [
        "# ***Logistic Regression with K-fold***"
      ],
      "metadata": {
        "id": "jUlaQE3HUaeQ"
      }
    },
    {
      "cell_type": "code",
      "source": [
        "\n",
        "k = 10\n",
        "kf = KFold(n_splits=k, random_state=None)\n",
        "model = LogisticRegression(solver= 'liblinear')\n",
        " \n",
        "acc_score = []\n",
        "for train_index , test_index in kf.split(X):\n",
        "    X_train , X_test = X.iloc[train_index,:],X.iloc[test_index,:]\n",
        "    y_train , y_test = y[train_index] , y[test_index]\n",
        "     \n",
        "    model.fit(X_train,y_train)\n",
        "    pred_values = model.predict(X_test)\n",
        "     \n",
        "    acc = accuracy_score(pred_values , y_test)\n",
        "    acc_score.append(acc)\n",
        "    cm = confusion_matrix(y_test, pred_values)\n",
        "    report = classification_report(y_test, pred_values)\n",
        "    print(report)\n",
        "     \n",
        "avg_acc_score=sum(acc_score)/k\n",
        "print('accuracy of each fold - {}'.format(acc_score))\n",
        "print('Avg accuracy : {}'.format(avg_acc_score))"
      ],
      "metadata": {
        "colab": {
          "base_uri": "https://localhost:8080/"
        },
        "id": "P8sbQGtIUaGC",
        "outputId": "ea0ce5dc-f52e-49c8-da78-101a7c248c13"
      },
      "execution_count": null,
      "outputs": [
        {
          "output_type": "stream",
          "name": "stdout",
          "text": [
            "              precision    recall  f1-score   support\n",
            "\n",
            "           0       0.82      0.99      0.90      2187\n",
            "           1       0.52      0.05      0.09       494\n",
            "\n",
            "    accuracy                           0.82      2681\n",
            "   macro avg       0.67      0.52      0.49      2681\n",
            "weighted avg       0.77      0.82      0.75      2681\n",
            "\n",
            "              precision    recall  f1-score   support\n",
            "\n",
            "           0       0.82      0.99      0.90      2196\n",
            "           1       0.53      0.05      0.09       485\n",
            "\n",
            "    accuracy                           0.82      2681\n",
            "   macro avg       0.68      0.52      0.49      2681\n",
            "weighted avg       0.77      0.82      0.75      2681\n",
            "\n",
            "              precision    recall  f1-score   support\n",
            "\n",
            "           0       0.83      0.99      0.90      2213\n",
            "           1       0.48      0.05      0.09       468\n",
            "\n",
            "    accuracy                           0.82      2681\n",
            "   macro avg       0.65      0.52      0.49      2681\n",
            "weighted avg       0.77      0.82      0.76      2681\n",
            "\n",
            "              precision    recall  f1-score   support\n",
            "\n",
            "           0       0.83      0.99      0.90      2192\n",
            "           1       0.61      0.06      0.11       488\n",
            "\n",
            "    accuracy                           0.82      2680\n",
            "   macro avg       0.72      0.53      0.51      2680\n",
            "weighted avg       0.79      0.82      0.76      2680\n",
            "\n",
            "              precision    recall  f1-score   support\n",
            "\n",
            "           0       0.82      0.99      0.90      2177\n",
            "           1       0.57      0.06      0.10       503\n",
            "\n",
            "    accuracy                           0.81      2680\n",
            "   macro avg       0.69      0.52      0.50      2680\n",
            "weighted avg       0.77      0.81      0.75      2680\n",
            "\n",
            "              precision    recall  f1-score   support\n",
            "\n",
            "           0       0.81      0.99      0.89      2159\n",
            "           1       0.60      0.06      0.11       521\n",
            "\n",
            "    accuracy                           0.81      2680\n",
            "   macro avg       0.70      0.52      0.50      2680\n",
            "weighted avg       0.77      0.81      0.74      2680\n",
            "\n",
            "              precision    recall  f1-score   support\n",
            "\n",
            "           0       0.81      0.98      0.89      2152\n",
            "           1       0.49      0.07      0.12       528\n",
            "\n",
            "    accuracy                           0.80      2680\n",
            "   macro avg       0.65      0.53      0.51      2680\n",
            "weighted avg       0.75      0.80      0.74      2680\n",
            "\n",
            "              precision    recall  f1-score   support\n",
            "\n",
            "           0       0.76      0.99      0.86      2036\n",
            "           1       0.53      0.04      0.07       644\n",
            "\n",
            "    accuracy                           0.76      2680\n",
            "   macro avg       0.65      0.51      0.47      2680\n",
            "weighted avg       0.71      0.76      0.67      2680\n",
            "\n",
            "              precision    recall  f1-score   support\n",
            "\n",
            "           0       0.79      0.99      0.88      2092\n",
            "           1       0.63      0.06      0.10       588\n",
            "\n",
            "    accuracy                           0.79      2680\n",
            "   macro avg       0.71      0.52      0.49      2680\n",
            "weighted avg       0.75      0.79      0.71      2680\n",
            "\n",
            "              precision    recall  f1-score   support\n",
            "\n",
            "           0       0.78      0.99      0.87      2063\n",
            "           1       0.55      0.04      0.08       617\n",
            "\n",
            "    accuracy                           0.77      2680\n",
            "   macro avg       0.66      0.52      0.48      2680\n",
            "weighted avg       0.72      0.77      0.69      2680\n",
            "\n",
            "accuracy of each fold - [0.8164863856769862, 0.8202163371876166, 0.824692279000373, 0.8220149253731344, 0.8149253731343283, 0.8093283582089552, 0.8026119402985075, 0.7608208955223881, 0.7858208955223881, 0.7716417910447761]\n",
            "Avg accuracy : 0.8028559180969452\n"
          ]
        }
      ]
    },
    {
      "cell_type": "markdown",
      "source": [
        "# ***Logistic Regression with Under sampling***"
      ],
      "metadata": {
        "id": "wVbTlaymVPLZ"
      }
    },
    {
      "cell_type": "code",
      "source": [
        "ros=RandomUnderSampler(random_state=0)\n",
        "X_re,y_rr=ros.fit_resample(X,y)\n",
        "X_train_re, X_test_re, y_train_re, y_test_re = train_test_split(X_re, y_rr, test_size=0.25,random_state=109)\n",
        " \n",
        "# 70% training and 30% test\n",
        "LogReg_clf = LogisticRegression(random_state = 0)\n",
        "\n",
        "LogReg_clf.fit(X_train_re, y_train_re)\n",
        "y_pred = LogReg_clf.predict(X_test_re)\n",
        "acc =  (accuracy_score(y_test_re, y_pred))*100\n",
        "\n",
        "cm = confusion_matrix(y_test_re, y_pred)\n",
        "\n",
        "print('Acuuracy is:', acc)\n",
        "\n",
        "print(\"Confusion Matrix \\n\", cm)"
      ],
      "metadata": {
        "colab": {
          "base_uri": "https://localhost:8080/"
        },
        "id": "gfVjyOMFVQOW",
        "outputId": "569f0b8a-066c-4a9d-c491-6d8ebd294ccf"
      },
      "execution_count": null,
      "outputs": [
        {
          "output_type": "stream",
          "name": "stdout",
          "text": [
            "Acuuracy is: 62.40629685157422\n",
            "Confusion Matrix \n",
            " [[855 434]\n",
            " [569 810]]\n"
          ]
        },
        {
          "output_type": "stream",
          "name": "stderr",
          "text": [
            "/usr/local/lib/python3.7/dist-packages/sklearn/linear_model/_logistic.py:818: ConvergenceWarning: lbfgs failed to converge (status=1):\n",
            "STOP: TOTAL NO. of ITERATIONS REACHED LIMIT.\n",
            "\n",
            "Increase the number of iterations (max_iter) or scale the data as shown in:\n",
            "    https://scikit-learn.org/stable/modules/preprocessing.html\n",
            "Please also refer to the documentation for alternative solver options:\n",
            "    https://scikit-learn.org/stable/modules/linear_model.html#logistic-regression\n",
            "  extra_warning_msg=_LOGISTIC_SOLVER_CONVERGENCE_MSG,\n"
          ]
        }
      ]
    },
    {
      "cell_type": "code",
      "source": [
        "cm = confusion_matrix(y_test_re, y_pred)\n",
        "report = classification_report(y_test_re, y_pred)\n",
        "print(report)"
      ],
      "metadata": {
        "colab": {
          "base_uri": "https://localhost:8080/"
        },
        "id": "SsYCJG9scbNb",
        "outputId": "f5152e19-9fdf-42cd-c9b5-24fb6c460d31"
      },
      "execution_count": null,
      "outputs": [
        {
          "output_type": "stream",
          "name": "stdout",
          "text": [
            "              precision    recall  f1-score   support\n",
            "\n",
            "           0       0.60      0.66      0.63      1289\n",
            "           1       0.65      0.59      0.62      1379\n",
            "\n",
            "    accuracy                           0.62      2668\n",
            "   macro avg       0.63      0.63      0.62      2668\n",
            "weighted avg       0.63      0.62      0.62      2668\n",
            "\n"
          ]
        }
      ]
    },
    {
      "cell_type": "code",
      "source": [
        "ns_probs = [0 for _ in range(len(y_test_re))]\n",
        "lr_probs = LogReg_clf.predict_proba(X_test_re)\n",
        "# keep probabilities for the positive outcome only\n",
        "lr_probs = lr_probs[:, 1]\n",
        "# calculate scores\n",
        "ns_auc = roc_auc_score(y_test_re, ns_probs)\n",
        "lr_auc = roc_auc_score(y_test_re, lr_probs)\n",
        "# summarize scores\n",
        "print('No Skill: ROC AUC=%.3f' % (ns_auc))\n",
        "print('Logistic: ROC AUC=%.3f' % (lr_auc))\n",
        "# calculate roc curves\n",
        "ns_fpr, ns_tpr, _ = roc_curve(y_test_re, ns_probs)\n",
        "lr_fpr, lr_tpr, _ = roc_curve(y_test_re, lr_probs)\n",
        "# plot the roc curve for the model\n",
        "pyplot.plot(ns_fpr, ns_tpr, linestyle='--', label='No Skill')\n",
        "pyplot.plot(lr_fpr, lr_tpr, marker='.', label='Logistic')\n",
        "# axis labels\n",
        "pyplot.xlabel('False Positive Rate')\n",
        "pyplot.ylabel('True Positive Rate')\n",
        "# show the legend\n",
        "pyplot.legend()\n",
        "# show the plot\n",
        "pyplot.show()\n",
        "# calculate roc curve\n",
        "fpr, tpr, thresholds = roc_curve(y_test_re, y_pred)\n",
        "auc = roc_auc_score(y_test_re, y_pred)\n",
        "print('AUC: %.3f' % auc)"
      ],
      "metadata": {
        "colab": {
          "base_uri": "https://localhost:8080/",
          "height": 333
        },
        "id": "N_HGr7NUVmh8",
        "outputId": "81530c65-1736-405c-8b81-d5a8993065b4"
      },
      "execution_count": null,
      "outputs": [
        {
          "output_type": "stream",
          "name": "stdout",
          "text": [
            "No Skill: ROC AUC=0.500\n",
            "Logistic: ROC AUC=0.677\n"
          ]
        },
        {
          "output_type": "display_data",
          "data": {
            "text/plain": [
              "<Figure size 432x288 with 1 Axes>"
            ],
            "image/png": "[encoded data removed]"
          },
          "metadata": {
            "needs_background": "light"
          }
        },
        {
          "output_type": "stream",
          "name": "stdout",
          "text": [
            "AUC: 0.625\n"
          ]
        }
      ]
    },
    {
      "cell_type": "markdown",
      "source": [
        "# ***Logistic Regression with Over Sampling***"
      ],
      "metadata": {
        "id": "HvYWnL7KVzts"
      }
    },
    {
      "cell_type": "code",
      "source": [
        "ros=RandomOverSampler(random_state=0)\n",
        "X_re,y_rr=ros.fit_resample(X,y)\n",
        "X_train_re, X_test_re, y_train_re, y_test_re = train_test_split(X_re, y_rr, test_size=0.25,random_state=109)\n",
        " \n",
        "# 70% training and 30% test\n",
        "LogReg_clf = LogisticRegression(random_state = 0)\n",
        "\n",
        "LogReg_clf.fit(X_train_re, y_train_re)\n",
        "y_pred = LogReg_clf.predict(X_test_re)\n",
        "acc =  (accuracy_score(y_test_re, y_pred))*100\n",
        "\n",
        "cm = confusion_matrix(y_test_re, y_pred)\n",
        "\n",
        "print('Acuuracy is:', acc)\n",
        "\n",
        "print(\"Confusion Matrix \\n\", cm)"
      ],
      "metadata": {
        "colab": {
          "base_uri": "https://localhost:8080/"
        },
        "id": "dgOEcVh6Vz1f",
        "outputId": "19076044-a8c2-45e7-e57f-9fd39f355dc2"
      },
      "execution_count": null,
      "outputs": [
        {
          "output_type": "stream",
          "name": "stdout",
          "text": [
            "Acuuracy is: 63.1171976895845\n",
            "Confusion Matrix \n",
            " [[3470 1861]\n",
            " [2098 3305]]\n"
          ]
        },
        {
          "output_type": "stream",
          "name": "stderr",
          "text": [
            "/usr/local/lib/python3.7/dist-packages/sklearn/linear_model/_logistic.py:818: ConvergenceWarning: lbfgs failed to converge (status=1):\n",
            "STOP: TOTAL NO. of ITERATIONS REACHED LIMIT.\n",
            "\n",
            "Increase the number of iterations (max_iter) or scale the data as shown in:\n",
            "    https://scikit-learn.org/stable/modules/preprocessing.html\n",
            "Please also refer to the documentation for alternative solver options:\n",
            "    https://scikit-learn.org/stable/modules/linear_model.html#logistic-regression\n",
            "  extra_warning_msg=_LOGISTIC_SOLVER_CONVERGENCE_MSG,\n"
          ]
        }
      ]
    },
    {
      "cell_type": "code",
      "source": [
        "cm = confusion_matrix(y_test_re, y_pred)\n",
        "report = classification_report(y_test_re, y_pred)\n",
        "print(report)"
      ],
      "metadata": {
        "colab": {
          "base_uri": "https://localhost:8080/"
        },
        "id": "0A6NxqkYc6Uk",
        "outputId": "be58a3d1-7b9d-4b9a-d08b-f005d748cb84"
      },
      "execution_count": null,
      "outputs": [
        {
          "output_type": "stream",
          "name": "stdout",
          "text": [
            "              precision    recall  f1-score   support\n",
            "\n",
            "           0       0.62      0.65      0.64      5331\n",
            "           1       0.64      0.61      0.63      5403\n",
            "\n",
            "    accuracy                           0.63     10734\n",
            "   macro avg       0.63      0.63      0.63     10734\n",
            "weighted avg       0.63      0.63      0.63     10734\n",
            "\n"
          ]
        }
      ]
    },
    {
      "cell_type": "code",
      "source": [
        "ns_probs = [0 for _ in range(len(y_test_re))]\n",
        "lr_probs = LogReg_clf.predict_proba(X_test_re)\n",
        "# keep probabilities for the positive outcome only\n",
        "lr_probs = lr_probs[:, 1]\n",
        "# calculate scores\n",
        "ns_auc = roc_auc_score(y_test_re, ns_probs)\n",
        "lr_auc = roc_auc_score(y_test_re, lr_probs)\n",
        "# summarize scores\n",
        "print('No Skill: ROC AUC=%.3f' % (ns_auc))\n",
        "print('Logistic: ROC AUC=%.3f' % (lr_auc))\n",
        "# calculate roc curves\n",
        "ns_fpr, ns_tpr, _ = roc_curve(y_test_re, ns_probs)\n",
        "lr_fpr, lr_tpr, _ = roc_curve(y_test_re, lr_probs)\n",
        "# plot the roc curve for the model\n",
        "pyplot.plot(ns_fpr, ns_tpr, linestyle='--', label='No Skill')\n",
        "pyplot.plot(lr_fpr, lr_tpr, marker='.', label='Logistic')\n",
        "# axis labels\n",
        "pyplot.xlabel('False Positive Rate')\n",
        "pyplot.ylabel('True Positive Rate')\n",
        "# show the legend\n",
        "pyplot.legend()\n",
        "# show the plot\n",
        "pyplot.show()\n",
        "# calculate roc curve\n",
        "fpr, tpr, thresholds = roc_curve(y_test_re, y_pred)\n",
        "auc = roc_auc_score(y_test_re, y_pred)\n",
        "print('AUC: %.3f' % auc)"
      ],
      "metadata": {
        "colab": {
          "base_uri": "https://localhost:8080/",
          "height": 333
        },
        "id": "_ReuaDP1WBmP",
        "outputId": "fad34257-8713-48cf-cf35-7c1ff9866277"
      },
      "execution_count": null,
      "outputs": [
        {
          "output_type": "stream",
          "name": "stdout",
          "text": [
            "No Skill: ROC AUC=0.500\n",
            "Logistic: ROC AUC=0.685\n"
          ]
        },
        {
          "output_type": "display_data",
          "data": {
            "text/plain": [
              "<Figure size 432x288 with 1 Axes>"
            ],
            "image/png": "[encoded data removed]"
          },
          "metadata": {
            "needs_background": "light"
          }
        },
        {
          "output_type": "stream",
          "name": "stdout",
          "text": [
            "AUC: 0.631\n"
          ]
        }
      ]
    },
    {
      "cell_type": "markdown",
      "source": [
        "# ***K Neighbour without K-fold***"
      ],
      "metadata": {
        "id": "_Noo4MMLWIXT"
      }
    },
    {
      "cell_type": "code",
      "source": [
        "X_train, X_test, y_train, y_test = train_test_split(X, y, test_size=0.25,random_state=42) # 70% training and 30% test\n",
        "sc = StandardScaler()\n",
        "\n",
        "X_train = sc.fit_transform(X_train)\n",
        "\n",
        "X_test = sc.transform(X_test)\n",
        "model=KNeighborsClassifier()\n",
        "model.fit(X_train,y_train)\n",
        "y_predict=model.predict(X_test)\n",
        "print(accuracy_score(y_test,y_predict))\n",
        "pd.crosstab(y_test,y_predict)\n"
      ],
      "metadata": {
        "colab": {
          "base_uri": "https://localhost:8080/",
          "height": 161
        },
        "id": "mfijv3ySWLzJ",
        "outputId": "8d10261e-3d69-498e-e8c1-7dc7044a719e"
      },
      "execution_count": null,
      "outputs": [
        {
          "output_type": "stream",
          "name": "stdout",
          "text": [
            "0.7794359050887927\n"
          ]
        },
        {
          "output_type": "execute_result",
          "data": {
            "text/plain": [
              "col_0               0    1\n",
              "Target variable           \n",
              "0                5027  351\n",
              "1                1127  196"
            ],
            "text/html": [
              "\n",
              "  <div id=\"df-edb6a6a8-17c5-4d47-a66f-3c706cd814b2\">\n",
              "    <div class=\"colab-df-container\">\n",
              "      <div>\n",
              "<style scoped>\n",
              "    .dataframe tbody tr th:only-of-type {\n",
              "        vertical-align: middle;\n",
              "    }\n",
              "\n",
              "    .dataframe tbody tr th {\n",
              "        vertical-align: top;\n",
              "    }\n",
              "\n",
              "    .dataframe thead th {\n",
              "        text-align: right;\n",
              "    }\n",
              "</style>\n",
              "<table border=\"1\" class=\"dataframe\">\n",
              "  <thead>\n",
              "    <tr style=\"text-align: right;\">\n",
              "      <th>col_0</th>\n",
              "      <th>0</th>\n",
              "      <th>1</th>\n",
              "    </tr>\n",
              "    <tr>\n",
              "      <th>Target variable</th>\n",
              "      <th></th>\n",
              "      <th></th>\n",
              "    </tr>\n",
              "  </thead>\n",
              "  <tbody>\n",
              "    <tr>\n",
              "      <th>0</th>\n",
              "      <td>5027</td>\n",
              "      <td>351</td>\n",
              "    </tr>\n",
              "    <tr>\n",
              "      <th>1</th>\n",
              "      <td>1127</td>\n",
              "      <td>196</td>\n",
              "    </tr>\n",
              "  </tbody>\n",
              "</table>\n",
              "</div>\n",
              "      <button class=\"colab-df-convert\" onclick=\"convertToInteractive('df-edb6a6a8-17c5-4d47-a66f-3c706cd814b2')\"\n",
              "              title=\"Convert this dataframe to an interactive table.\"\n",
              "              style=\"display:none;\">\n",
              "        \n",
              "  <svg xmlns=\"http://www.w3.org/2000/svg\" height=\"24px\"viewBox=\"0 0 24 24\"\n",
              "       width=\"24px\">\n",
              "    <path d=\"M0 0h24v24H0V0z\" fill=\"none\"/>\n",
              "    <path d=\"M18.56 5.44l.94 2.06.94-2.06 2.06-.94-2.06-.94-.94-2.06-.94 2.06-2.06.94zm-11 1L8.5 8.5l.94-2.06 2.06-.94-2.06-.94L8.5 2.5l-.94 2.06-2.06.94zm10 10l.94 2.06.94-2.06 2.06-.94-2.06-.94-.94-2.06-.94 2.06-2.06.94z\"/><path d=\"M17.41 7.96l-1.37-1.37c-.4-.4-.92-.59-1.43-.59-.52 0-1.04.2-1.43.59L10.3 9.45l-7.72 7.72c-.78.78-.78 2.05 0 2.83L4 21.41c.39.39.9.59 1.41.59.51 0 1.02-.2 1.41-.59l7.78-7.78 2.81-2.81c.8-.78.8-2.07 0-2.86zM5.41 20L4 18.59l7.72-7.72 1.47 1.35L5.41 20z\"/>\n",
              "  </svg>\n",
              "      </button>\n",
              "      \n",
              "  <style>\n",
              "    .colab-df-container {\n",
              "      display:flex;\n",
              "      flex-wrap:wrap;\n",
              "      gap: 12px;\n",
              "    }\n",
              "\n",
              "    .colab-df-convert {\n",
              "      background-color: #E8F0FE;\n",
              "      border: none;\n",
              "      border-radius: 50%;\n",
              "      cursor: pointer;\n",
              "      display: none;\n",
              "      fill: #1967D2;\n",
              "      height: 32px;\n",
              "      padding: 0 0 0 0;\n",
              "      width: 32px;\n",
              "    }\n",
              "\n",
              "    .colab-df-convert:hover {\n",
              "      background-color: #E2EBFA;\n",
              "      box-shadow: 0px 1px 2px rgba(60, 64, 67, 0.3), 0px 1px 3px 1px rgba(60, 64, 67, 0.15);\n",
              "      fill: #174EA6;\n",
              "    }\n",
              "\n",
              "    [theme=dark] .colab-df-convert {\n",
              "      background-color: #3B4455;\n",
              "      fill: #D2E3FC;\n",
              "    }\n",
              "\n",
              "    [theme=dark] .colab-df-convert:hover {\n",
              "      background-color: #434B5C;\n",
              "      box-shadow: 0px 1px 3px 1px rgba(0, 0, 0, 0.15);\n",
              "      filter: drop-shadow(0px 1px 2px rgba(0, 0, 0, 0.3));\n",
              "      fill: #FFFFFF;\n",
              "    }\n",
              "  </style>\n",
              "\n",
              "      <script>\n",
              "        const buttonEl =\n",
              "          document.querySelector('#df-edb6a6a8-17c5-4d47-a66f-3c706cd814b2 button.colab-df-convert');\n",
              "        buttonEl.style.display =\n",
              "          google.colab.kernel.accessAllowed ? 'block' : 'none';\n",
              "\n",
              "        async function convertToInteractive(key) {\n",
              "          const element = document.querySelector('#df-edb6a6a8-17c5-4d47-a66f-3c706cd814b2');\n",
              "          const dataTable =\n",
              "            await google.colab.kernel.invokeFunction('convertToInteractive',\n",
              "                                                     [key], {});\n",
              "          if (!dataTable) return;\n",
              "\n",
              "          const docLinkHtml = 'Like what you see? Visit the ' +\n",
              "            '<a target=\"_blank\" href=https://colab.research.google.com/notebooks/data_table.ipynb>data table notebook</a>'\n",
              "            + ' to learn more about interactive tables.';\n",
              "          element.innerHTML = '';\n",
              "          dataTable['output_type'] = 'display_data';\n",
              "          await google.colab.output.renderOutput(dataTable, element);\n",
              "          const docLink = document.createElement('div');\n",
              "          docLink.innerHTML = docLinkHtml;\n",
              "          element.appendChild(docLink);\n",
              "        }\n",
              "      </script>\n",
              "    </div>\n",
              "  </div>\n",
              "  "
            ]
          },
          "metadata": {},
          "execution_count": 5
        }
      ]
    },
    {
      "cell_type": "code",
      "source": [
        "report = classification_report(y_test, y_predict)\n",
        "print(report)"
      ],
      "metadata": {
        "colab": {
          "base_uri": "https://localhost:8080/"
        },
        "id": "dp6AHFq0WL66",
        "outputId": "f7d58f1c-c901-46af-d197-0c974e32e28b"
      },
      "execution_count": null,
      "outputs": [
        {
          "output_type": "stream",
          "name": "stdout",
          "text": [
            "              precision    recall  f1-score   support\n",
            "\n",
            "           0       0.82      0.93      0.87      5378\n",
            "           1       0.36      0.15      0.21      1323\n",
            "\n",
            "    accuracy                           0.78      6701\n",
            "   macro avg       0.59      0.54      0.54      6701\n",
            "weighted avg       0.73      0.78      0.74      6701\n",
            "\n"
          ]
        }
      ]
    },
    {
      "cell_type": "code",
      "source": [
        "ns_probs = [0 for _ in range(len(y_test))]\n",
        "lr_probs = model.predict_proba(X_test)\n",
        "# keep probabilities for the positive outcome only\n",
        "lr_probs = lr_probs[:, 1]\n",
        "# calculate scores\n",
        "ns_auc = roc_auc_score(y_test, ns_probs)\n",
        "lr_auc = roc_auc_score(y_test, lr_probs)\n",
        "# summarize scores\n",
        "print('No Skill: ROC AUC=%.3f' % (ns_auc))\n",
        "print('Logistic: ROC AUC=%.3f' % (lr_auc))\n",
        "# calculate roc curves\n",
        "ns_fpr, ns_tpr, _ = roc_curve(y_test, ns_probs)\n",
        "lr_fpr, lr_tpr, _ = roc_curve(y_test, lr_probs)\n",
        "# plot the roc curve for the model\n",
        "pyplot.plot(ns_fpr, ns_tpr, linestyle='--', label='No Skill')\n",
        "pyplot.plot(lr_fpr, lr_tpr, marker='.', label='Logistic')\n",
        "# axis labels\n",
        "pyplot.xlabel('False Positive Rate')\n",
        "pyplot.ylabel('True Positive Rate')\n",
        "# show the legend\n",
        "pyplot.legend()\n",
        "# show the plot\n",
        "pyplot.show()\n",
        "# calculate roc curve\n",
        "fpr, tpr, thresholds = roc_curve(y_test, y_predict)\n",
        "auc = roc_auc_score(y_test, y_predict)\n",
        "print('AUC: %.3f' % auc)"
      ],
      "metadata": {
        "colab": {
          "base_uri": "https://localhost:8080/",
          "height": 333
        },
        "id": "6XtKFq2gWXO3",
        "outputId": "7a309334-34ef-46d6-d1e2-08f5cb738a25"
      },
      "execution_count": null,
      "outputs": [
        {
          "output_type": "stream",
          "name": "stdout",
          "text": [
            "No Skill: ROC AUC=0.500\n",
            "Logistic: ROC AUC=0.615\n"
          ]
        },
        {
          "output_type": "display_data",
          "data": {
            "text/plain": [
              "<Figure size 432x288 with 1 Axes>"
            ],
            "image/png": "[encoded data removed]"
          },
          "metadata": {
            "needs_background": "light"
          }
        },
        {
          "output_type": "stream",
          "name": "stdout",
          "text": [
            "AUC: 0.541\n"
          ]
        }
      ]
    },
    {
      "cell_type": "markdown",
      "source": [
        "# ***K-neighbour with K-FOLD***"
      ],
      "metadata": {
        "id": "TadLKrklW2Fo"
      }
    },
    {
      "cell_type": "code",
      "source": [
        "k = 10\n",
        "kf = KFold(n_splits=k, random_state=None)\n",
        "model_2 = KNeighborsClassifier()\n",
        " \n",
        "acc_score = []\n",
        "\n",
        "for train_index , test_index in kf.split(X):\n",
        "    X_train , X_test = X.iloc[train_index,:],X.iloc[test_index,:]\n",
        "    y_train , y_test = y[train_index] , y[test_index]\n",
        "     \n",
        "    model_2.fit(X_train,y_train)\n",
        "    pred_values = model_2.predict(X_test)\n",
        "     \n",
        "    acc = accuracy_score(pred_values , y_test)\n",
        "    acc_score.append(acc)\n",
        "    cm = confusion_matrix(y_test, pred_values)\n",
        "    print(\"K=Neighbours\")\n",
        "    report = classification_report(y_test, pred_values)\n",
        "    print(report)\n",
        "     \n",
        "avg_acc_score = sum(acc_score)/k\n",
        " \n",
        "print('accuracy of each fold - {}'.format(acc_score))\n",
        "print('Avg accuracy : {}'.format(avg_acc_score))"
      ],
      "metadata": {
        "colab": {
          "base_uri": "https://localhost:8080/"
        },
        "id": "Vi-I0GlwW53y",
        "outputId": "7ad99436-a028-41ea-9339-4890cb71176d"
      },
      "execution_count": null,
      "outputs": [
        {
          "output_type": "stream",
          "name": "stdout",
          "text": [
            "K=Neighbours\n",
            "              precision    recall  f1-score   support\n",
            "\n",
            "           0       0.82      0.95      0.88      2187\n",
            "           1       0.18      0.05      0.08       494\n",
            "\n",
            "    accuracy                           0.78      2681\n",
            "   macro avg       0.50      0.50      0.48      2681\n",
            "weighted avg       0.70      0.78      0.73      2681\n",
            "\n",
            "K=Neighbours\n",
            "              precision    recall  f1-score   support\n",
            "\n",
            "           0       0.83      0.95      0.89      2196\n",
            "           1       0.33      0.10      0.15       485\n",
            "\n",
            "    accuracy                           0.80      2681\n",
            "   macro avg       0.58      0.53      0.52      2681\n",
            "weighted avg       0.74      0.80      0.75      2681\n",
            "\n",
            "K=Neighbours\n",
            "              precision    recall  f1-score   support\n",
            "\n",
            "           0       0.83      0.95      0.89      2213\n",
            "           1       0.24      0.07      0.11       468\n",
            "\n",
            "    accuracy                           0.80      2681\n",
            "   macro avg       0.54      0.51      0.50      2681\n",
            "weighted avg       0.73      0.80      0.75      2681\n",
            "\n",
            "K=Neighbours\n",
            "              precision    recall  f1-score   support\n",
            "\n",
            "           0       0.82      0.95      0.88      2192\n",
            "           1       0.23      0.07      0.11       488\n",
            "\n",
            "    accuracy                           0.79      2680\n",
            "   macro avg       0.52      0.51      0.49      2680\n",
            "weighted avg       0.71      0.79      0.74      2680\n",
            "\n",
            "K=Neighbours\n",
            "              precision    recall  f1-score   support\n",
            "\n",
            "           0       0.81      0.94      0.87      2177\n",
            "           1       0.21      0.07      0.10       503\n",
            "\n",
            "    accuracy                           0.78      2680\n",
            "   macro avg       0.51      0.50      0.49      2680\n",
            "weighted avg       0.70      0.78      0.73      2680\n",
            "\n",
            "K=Neighbours\n",
            "              precision    recall  f1-score   support\n",
            "\n",
            "           0       0.81      0.95      0.87      2159\n",
            "           1       0.23      0.06      0.10       521\n",
            "\n",
            "    accuracy                           0.78      2680\n",
            "   macro avg       0.52      0.51      0.49      2680\n",
            "weighted avg       0.70      0.78      0.72      2680\n",
            "\n",
            "K=Neighbours\n",
            "              precision    recall  f1-score   support\n",
            "\n",
            "           0       0.81      0.95      0.87      2152\n",
            "           1       0.29      0.09      0.13       528\n",
            "\n",
            "    accuracy                           0.78      2680\n",
            "   macro avg       0.55      0.52      0.50      2680\n",
            "weighted avg       0.71      0.78      0.73      2680\n",
            "\n",
            "K=Neighbours\n",
            "              precision    recall  f1-score   support\n",
            "\n",
            "           0       0.76      0.96      0.85      2036\n",
            "           1       0.29      0.06      0.10       644\n",
            "\n",
            "    accuracy                           0.74      2680\n",
            "   macro avg       0.53      0.51      0.47      2680\n",
            "weighted avg       0.65      0.74      0.67      2680\n",
            "\n",
            "K=Neighbours\n",
            "              precision    recall  f1-score   support\n",
            "\n",
            "           0       0.78      0.94      0.85      2092\n",
            "           1       0.26      0.07      0.12       588\n",
            "\n",
            "    accuracy                           0.75      2680\n",
            "   macro avg       0.52      0.51      0.49      2680\n",
            "weighted avg       0.67      0.75      0.69      2680\n",
            "\n",
            "K=Neighbours\n",
            "              precision    recall  f1-score   support\n",
            "\n",
            "           0       0.77      0.95      0.85      2063\n",
            "           1       0.29      0.07      0.11       617\n",
            "\n",
            "    accuracy                           0.75      2680\n",
            "   macro avg       0.53      0.51      0.48      2680\n",
            "weighted avg       0.66      0.75      0.68      2680\n",
            "\n",
            "accuracy of each fold - [0.7825438269302499, 0.8000745990302126, 0.7982096232748974, 0.7861940298507463, 0.7776119402985074, 0.7776119402985074, 0.7791044776119403, 0.7399253731343284, 0.7507462686567165, 0.746268656716418]\n",
            "Avg accuracy : 0.7738290735802524\n"
          ]
        }
      ]
    },
    {
      "cell_type": "markdown",
      "source": [
        "# ***K-neighbour with Under Sampling***"
      ],
      "metadata": {
        "id": "LWsBboBIXCP_"
      }
    },
    {
      "cell_type": "code",
      "source": [
        "ros=RandomUnderSampler(random_state=0)\n",
        "X_re,y_rr=ros.fit_resample(X,y)\n",
        "X_train_re, X_test_re, y_train_re, y_test_re = train_test_split(X_re, y_rr, test_size=0.25,random_state=109) "
      ],
      "metadata": {
        "id": "UUjqeITJXHIf"
      },
      "execution_count": null,
      "outputs": []
    },
    {
      "cell_type": "code",
      "source": [
        "sc = StandardScaler()\n",
        "\n",
        "X_train = sc.fit_transform(X_train_re)\n",
        "\n",
        "X_test = sc.transform(X_test_re)\n",
        "model=KNeighborsClassifier()\n",
        "model.fit(X_train_re,y_train_re)\n",
        "y_predict=model.predict(X_test_re)\n",
        "print(accuracy_score(y_test_re,y_predict))\n",
        "pd.crosstab(y_test_re,y_predict)"
      ],
      "metadata": {
        "colab": {
          "base_uri": "https://localhost:8080/",
          "height": 161
        },
        "id": "ZVlfK3SKXNFe",
        "outputId": "bdd4984a-e4dc-4769-cee9-a71b971eea03"
      },
      "execution_count": null,
      "outputs": [
        {
          "output_type": "stream",
          "name": "stdout",
          "text": [
            "0.5431034482758621\n"
          ]
        },
        {
          "output_type": "execute_result",
          "data": {
            "text/plain": [
              "col_0              0    1\n",
              "Target variable          \n",
              "0                734  555\n",
              "1                664  715"
            ],
            "text/html": [
              "\n",
              "  <div id=\"df-b865a0b2-f7c6-472d-9f92-0ac8828f3110\">\n",
              "    <div class=\"colab-df-container\">\n",
              "      <div>\n",
              "<style scoped>\n",
              "    .dataframe tbody tr th:only-of-type {\n",
              "        vertical-align: middle;\n",
              "    }\n",
              "\n",
              "    .dataframe tbody tr th {\n",
              "        vertical-align: top;\n",
              "    }\n",
              "\n",
              "    .dataframe thead th {\n",
              "        text-align: right;\n",
              "    }\n",
              "</style>\n",
              "<table border=\"1\" class=\"dataframe\">\n",
              "  <thead>\n",
              "    <tr style=\"text-align: right;\">\n",
              "      <th>col_0</th>\n",
              "      <th>0</th>\n",
              "      <th>1</th>\n",
              "    </tr>\n",
              "    <tr>\n",
              "      <th>Target variable</th>\n",
              "      <th></th>\n",
              "      <th></th>\n",
              "    </tr>\n",
              "  </thead>\n",
              "  <tbody>\n",
              "    <tr>\n",
              "      <th>0</th>\n",
              "      <td>734</td>\n",
              "      <td>555</td>\n",
              "    </tr>\n",
              "    <tr>\n",
              "      <th>1</th>\n",
              "      <td>664</td>\n",
              "      <td>715</td>\n",
              "    </tr>\n",
              "  </tbody>\n",
              "</table>\n",
              "</div>\n",
              "      <button class=\"colab-df-convert\" onclick=\"convertToInteractive('df-b865a0b2-f7c6-472d-9f92-0ac8828f3110')\"\n",
              "              title=\"Convert this dataframe to an interactive table.\"\n",
              "              style=\"display:none;\">\n",
              "        \n",
              "  <svg xmlns=\"http://www.w3.org/2000/svg\" height=\"24px\"viewBox=\"0 0 24 24\"\n",
              "       width=\"24px\">\n",
              "    <path d=\"M0 0h24v24H0V0z\" fill=\"none\"/>\n",
              "    <path d=\"M18.56 5.44l.94 2.06.94-2.06 2.06-.94-2.06-.94-.94-2.06-.94 2.06-2.06.94zm-11 1L8.5 8.5l.94-2.06 2.06-.94-2.06-.94L8.5 2.5l-.94 2.06-2.06.94zm10 10l.94 2.06.94-2.06 2.06-.94-2.06-.94-.94-2.06-.94 2.06-2.06.94z\"/><path d=\"M17.41 7.96l-1.37-1.37c-.4-.4-.92-.59-1.43-.59-.52 0-1.04.2-1.43.59L10.3 9.45l-7.72 7.72c-.78.78-.78 2.05 0 2.83L4 21.41c.39.39.9.59 1.41.59.51 0 1.02-.2 1.41-.59l7.78-7.78 2.81-2.81c.8-.78.8-2.07 0-2.86zM5.41 20L4 18.59l7.72-7.72 1.47 1.35L5.41 20z\"/>\n",
              "  </svg>\n",
              "      </button>\n",
              "      \n",
              "  <style>\n",
              "    .colab-df-container {\n",
              "      display:flex;\n",
              "      flex-wrap:wrap;\n",
              "      gap: 12px;\n",
              "    }\n",
              "\n",
              "    .colab-df-convert {\n",
              "      background-color: #E8F0FE;\n",
              "      border: none;\n",
              "      border-radius: 50%;\n",
              "      cursor: pointer;\n",
              "      display: none;\n",
              "      fill: #1967D2;\n",
              "      height: 32px;\n",
              "      padding: 0 0 0 0;\n",
              "      width: 32px;\n",
              "    }\n",
              "\n",
              "    .colab-df-convert:hover {\n",
              "      background-color: #E2EBFA;\n",
              "      box-shadow: 0px 1px 2px rgba(60, 64, 67, 0.3), 0px 1px 3px 1px rgba(60, 64, 67, 0.15);\n",
              "      fill: #174EA6;\n",
              "    }\n",
              "\n",
              "    [theme=dark] .colab-df-convert {\n",
              "      background-color: #3B4455;\n",
              "      fill: #D2E3FC;\n",
              "    }\n",
              "\n",
              "    [theme=dark] .colab-df-convert:hover {\n",
              "      background-color: #434B5C;\n",
              "      box-shadow: 0px 1px 3px 1px rgba(0, 0, 0, 0.15);\n",
              "      filter: drop-shadow(0px 1px 2px rgba(0, 0, 0, 0.3));\n",
              "      fill: #FFFFFF;\n",
              "    }\n",
              "  </style>\n",
              "\n",
              "      <script>\n",
              "        const buttonEl =\n",
              "          document.querySelector('#df-b865a0b2-f7c6-472d-9f92-0ac8828f3110 button.colab-df-convert');\n",
              "        buttonEl.style.display =\n",
              "          google.colab.kernel.accessAllowed ? 'block' : 'none';\n",
              "\n",
              "        async function convertToInteractive(key) {\n",
              "          const element = document.querySelector('#df-b865a0b2-f7c6-472d-9f92-0ac8828f3110');\n",
              "          const dataTable =\n",
              "            await google.colab.kernel.invokeFunction('convertToInteractive',\n",
              "                                                     [key], {});\n",
              "          if (!dataTable) return;\n",
              "\n",
              "          const docLinkHtml = 'Like what you see? Visit the ' +\n",
              "            '<a target=\"_blank\" href=https://colab.research.google.com/notebooks/data_table.ipynb>data table notebook</a>'\n",
              "            + ' to learn more about interactive tables.';\n",
              "          element.innerHTML = '';\n",
              "          dataTable['output_type'] = 'display_data';\n",
              "          await google.colab.output.renderOutput(dataTable, element);\n",
              "          const docLink = document.createElement('div');\n",
              "          docLink.innerHTML = docLinkHtml;\n",
              "          element.appendChild(docLink);\n",
              "        }\n",
              "      </script>\n",
              "    </div>\n",
              "  </div>\n",
              "  "
            ]
          },
          "metadata": {},
          "execution_count": 75
        }
      ]
    },
    {
      "cell_type": "code",
      "source": [
        "report = classification_report(y_test_re, y_predict)\n",
        "print(report)"
      ],
      "metadata": {
        "colab": {
          "base_uri": "https://localhost:8080/"
        },
        "id": "LaJsPChZgsM-",
        "outputId": "9cf1874d-0afd-4f1c-d0c3-9502ffa93f8b"
      },
      "execution_count": null,
      "outputs": [
        {
          "output_type": "stream",
          "name": "stdout",
          "text": [
            "              precision    recall  f1-score   support\n",
            "\n",
            "           0       0.53      0.57      0.55      1289\n",
            "           1       0.56      0.52      0.54      1379\n",
            "\n",
            "    accuracy                           0.54      2668\n",
            "   macro avg       0.54      0.54      0.54      2668\n",
            "weighted avg       0.54      0.54      0.54      2668\n",
            "\n"
          ]
        }
      ]
    },
    {
      "cell_type": "code",
      "source": [
        "ns_probs = [0 for _ in range(len(y_test_re))]\n",
        "lr_probs = model.predict_proba(X_test_re)\n",
        "# keep probabilities for the positive outcome only\n",
        "lr_probs = lr_probs[:, 1]\n",
        "# calculate scores\n",
        "ns_auc = roc_auc_score(y_test_re, ns_probs)\n",
        "lr_auc = roc_auc_score(y_test_re, lr_probs)\n",
        "# summarize scores\n",
        "print('No Skill: ROC AUC=%.3f' % (ns_auc))\n",
        "print('Logistic: ROC AUC=%.3f' % (lr_auc))\n",
        "# calculate roc curves\n",
        "ns_fpr, ns_tpr, _ = roc_curve(y_test_re, ns_probs)\n",
        "lr_fpr, lr_tpr, _ = roc_curve(y_test_re, lr_probs)\n",
        "# plot the roc curve for the model\n",
        "pyplot.plot(ns_fpr, ns_tpr, linestyle='--', label='No Skill')\n",
        "pyplot.plot(lr_fpr, lr_tpr, marker='.', label='Logistic')\n",
        "# axis labels\n",
        "pyplot.xlabel('False Positive Rate')\n",
        "pyplot.ylabel('True Positive Rate')\n",
        "# show the legend\n",
        "pyplot.legend()\n",
        "# show the plot\n",
        "pyplot.show()\n",
        "# calculate roc curve\n",
        "fpr, tpr, thresholds = roc_curve(y_test_re, y_predict)\n",
        "auc = roc_auc_score(y_test_re, y_predict)\n",
        "print('AUC: %.3f' % auc)"
      ],
      "metadata": {
        "colab": {
          "base_uri": "https://localhost:8080/",
          "height": 333
        },
        "id": "O50GA6BHXYrJ",
        "outputId": "27827a34-abb2-48ee-cf71-4b60f75b3ec2"
      },
      "execution_count": null,
      "outputs": [
        {
          "output_type": "stream",
          "name": "stdout",
          "text": [
            "No Skill: ROC AUC=0.500\n",
            "Logistic: ROC AUC=0.553\n"
          ]
        },
        {
          "output_type": "display_data",
          "data": {
            "text/plain": [
              "<Figure size 432x288 with 1 Axes>"
            ],
            "image/png": "[encoded data removed]"
          },
          "metadata": {
            "needs_background": "light"
          }
        },
        {
          "output_type": "stream",
          "name": "stdout",
          "text": [
            "AUC: 0.544\n"
          ]
        }
      ]
    },
    {
      "cell_type": "markdown",
      "source": [
        "# ***K-neighbour with Over Sampling***"
      ],
      "metadata": {
        "id": "BQvHuWanX1rK"
      }
    },
    {
      "cell_type": "code",
      "source": [
        "ros=RandomOverSampler(random_state=0)\n",
        "X_re,y_rr=ros.fit_resample(X,y)\n",
        "X_train_re, X_test_re, y_train_re, y_test_re = train_test_split(X_re, y_rr, test_size=0.25,random_state=109) "
      ],
      "metadata": {
        "id": "kEFIXUL3X110"
      },
      "execution_count": null,
      "outputs": []
    },
    {
      "cell_type": "code",
      "source": [
        "sc = StandardScaler()\n",
        "\n",
        "X_train = sc.fit_transform(X_train_re)\n",
        "\n",
        "X_test = sc.transform(X_test_re)\n",
        "model=KNeighborsClassifier()\n",
        "model.fit(X_train_re,y_train_re)\n",
        "y_predict=model.predict(X_test_re)\n",
        "print(accuracy_score(y_test_re,y_predict))\n",
        "pd.crosstab(y_test_re,y_predict)"
      ],
      "metadata": {
        "colab": {
          "base_uri": "https://localhost:8080/",
          "height": 161
        },
        "id": "KcQpyaNaX9tN",
        "outputId": "4a6a3480-6586-495d-9736-6d1861dcd342"
      },
      "execution_count": null,
      "outputs": [
        {
          "output_type": "stream",
          "name": "stdout",
          "text": [
            "0.6955468604434507\n"
          ]
        },
        {
          "output_type": "execute_result",
          "data": {
            "text/plain": [
              "col_0               0     1\n",
              "Target variable            \n",
              "0                3173  2158\n",
              "1                1110  4293"
            ],
            "text/html": [
              "\n",
              "  <div id=\"df-886b8851-3593-485d-bfba-053777b937da\">\n",
              "    <div class=\"colab-df-container\">\n",
              "      <div>\n",
              "<style scoped>\n",
              "    .dataframe tbody tr th:only-of-type {\n",
              "        vertical-align: middle;\n",
              "    }\n",
              "\n",
              "    .dataframe tbody tr th {\n",
              "        vertical-align: top;\n",
              "    }\n",
              "\n",
              "    .dataframe thead th {\n",
              "        text-align: right;\n",
              "    }\n",
              "</style>\n",
              "<table border=\"1\" class=\"dataframe\">\n",
              "  <thead>\n",
              "    <tr style=\"text-align: right;\">\n",
              "      <th>col_0</th>\n",
              "      <th>0</th>\n",
              "      <th>1</th>\n",
              "    </tr>\n",
              "    <tr>\n",
              "      <th>Target variable</th>\n",
              "      <th></th>\n",
              "      <th></th>\n",
              "    </tr>\n",
              "  </thead>\n",
              "  <tbody>\n",
              "    <tr>\n",
              "      <th>0</th>\n",
              "      <td>3173</td>\n",
              "      <td>2158</td>\n",
              "    </tr>\n",
              "    <tr>\n",
              "      <th>1</th>\n",
              "      <td>1110</td>\n",
              "      <td>4293</td>\n",
              "    </tr>\n",
              "  </tbody>\n",
              "</table>\n",
              "</div>\n",
              "      <button class=\"colab-df-convert\" onclick=\"convertToInteractive('df-886b8851-3593-485d-bfba-053777b937da')\"\n",
              "              title=\"Convert this dataframe to an interactive table.\"\n",
              "              style=\"display:none;\">\n",
              "        \n",
              "  <svg xmlns=\"http://www.w3.org/2000/svg\" height=\"24px\"viewBox=\"0 0 24 24\"\n",
              "       width=\"24px\">\n",
              "    <path d=\"M0 0h24v24H0V0z\" fill=\"none\"/>\n",
              "    <path d=\"M18.56 5.44l.94 2.06.94-2.06 2.06-.94-2.06-.94-.94-2.06-.94 2.06-2.06.94zm-11 1L8.5 8.5l.94-2.06 2.06-.94-2.06-.94L8.5 2.5l-.94 2.06-2.06.94zm10 10l.94 2.06.94-2.06 2.06-.94-2.06-.94-.94-2.06-.94 2.06-2.06.94z\"/><path d=\"M17.41 7.96l-1.37-1.37c-.4-.4-.92-.59-1.43-.59-.52 0-1.04.2-1.43.59L10.3 9.45l-7.72 7.72c-.78.78-.78 2.05 0 2.83L4 21.41c.39.39.9.59 1.41.59.51 0 1.02-.2 1.41-.59l7.78-7.78 2.81-2.81c.8-.78.8-2.07 0-2.86zM5.41 20L4 18.59l7.72-7.72 1.47 1.35L5.41 20z\"/>\n",
              "  </svg>\n",
              "      </button>\n",
              "      \n",
              "  <style>\n",
              "    .colab-df-container {\n",
              "      display:flex;\n",
              "      flex-wrap:wrap;\n",
              "      gap: 12px;\n",
              "    }\n",
              "\n",
              "    .colab-df-convert {\n",
              "      background-color: #E8F0FE;\n",
              "      border: none;\n",
              "      border-radius: 50%;\n",
              "      cursor: pointer;\n",
              "      display: none;\n",
              "      fill: #1967D2;\n",
              "      height: 32px;\n",
              "      padding: 0 0 0 0;\n",
              "      width: 32px;\n",
              "    }\n",
              "\n",
              "    .colab-df-convert:hover {\n",
              "      background-color: #E2EBFA;\n",
              "      box-shadow: 0px 1px 2px rgba(60, 64, 67, 0.3), 0px 1px 3px 1px rgba(60, 64, 67, 0.15);\n",
              "      fill: #174EA6;\n",
              "    }\n",
              "\n",
              "    [theme=dark] .colab-df-convert {\n",
              "      background-color: #3B4455;\n",
              "      fill: #D2E3FC;\n",
              "    }\n",
              "\n",
              "    [theme=dark] .colab-df-convert:hover {\n",
              "      background-color: #434B5C;\n",
              "      box-shadow: 0px 1px 3px 1px rgba(0, 0, 0, 0.15);\n",
              "      filter: drop-shadow(0px 1px 2px rgba(0, 0, 0, 0.3));\n",
              "      fill: #FFFFFF;\n",
              "    }\n",
              "  </style>\n",
              "\n",
              "      <script>\n",
              "        const buttonEl =\n",
              "          document.querySelector('#df-886b8851-3593-485d-bfba-053777b937da button.colab-df-convert');\n",
              "        buttonEl.style.display =\n",
              "          google.colab.kernel.accessAllowed ? 'block' : 'none';\n",
              "\n",
              "        async function convertToInteractive(key) {\n",
              "          const element = document.querySelector('#df-886b8851-3593-485d-bfba-053777b937da');\n",
              "          const dataTable =\n",
              "            await google.colab.kernel.invokeFunction('convertToInteractive',\n",
              "                                                     [key], {});\n",
              "          if (!dataTable) return;\n",
              "\n",
              "          const docLinkHtml = 'Like what you see? Visit the ' +\n",
              "            '<a target=\"_blank\" href=https://colab.research.google.com/notebooks/data_table.ipynb>data table notebook</a>'\n",
              "            + ' to learn more about interactive tables.';\n",
              "          element.innerHTML = '';\n",
              "          dataTable['output_type'] = 'display_data';\n",
              "          await google.colab.output.renderOutput(dataTable, element);\n",
              "          const docLink = document.createElement('div');\n",
              "          docLink.innerHTML = docLinkHtml;\n",
              "          element.appendChild(docLink);\n",
              "        }\n",
              "      </script>\n",
              "    </div>\n",
              "  </div>\n",
              "  "
            ]
          },
          "metadata": {},
          "execution_count": 79
        }
      ]
    },
    {
      "cell_type": "code",
      "source": [
        "report = classification_report(y_test_re, y_predict)\n",
        "print(report)"
      ],
      "metadata": {
        "colab": {
          "base_uri": "https://localhost:8080/"
        },
        "id": "3widIaVTg6H1",
        "outputId": "b1dd171a-21d3-470b-92f2-079c3b5b6e7d"
      },
      "execution_count": null,
      "outputs": [
        {
          "output_type": "stream",
          "name": "stdout",
          "text": [
            "              precision    recall  f1-score   support\n",
            "\n",
            "           0       0.74      0.60      0.66      5331\n",
            "           1       0.67      0.79      0.72      5403\n",
            "\n",
            "    accuracy                           0.70     10734\n",
            "   macro avg       0.70      0.69      0.69     10734\n",
            "weighted avg       0.70      0.70      0.69     10734\n",
            "\n"
          ]
        }
      ]
    },
    {
      "cell_type": "code",
      "source": [
        "ns_probs = [0 for _ in range(len(y_test_re))]\n",
        "lr_probs = model.predict_proba(X_test_re)\n",
        "# keep probabilities for the positive outcome only\n",
        "lr_probs = lr_probs[:, 1]\n",
        "# calculate scores\n",
        "ns_auc = roc_auc_score(y_test_re, ns_probs)\n",
        "lr_auc = roc_auc_score(y_test_re, lr_probs)\n",
        "# summarize scores\n",
        "print('No Skill: ROC AUC=%.3f' % (ns_auc))\n",
        "print('Logistic: ROC AUC=%.3f' % (lr_auc))\n",
        "# calculate roc curves\n",
        "ns_fpr, ns_tpr, _ = roc_curve(y_test_re, ns_probs)\n",
        "lr_fpr, lr_tpr, _ = roc_curve(y_test_re, lr_probs)\n",
        "# plot the roc curve for the model\n",
        "pyplot.plot(ns_fpr, ns_tpr, linestyle='--', label='No Skill')\n",
        "pyplot.plot(lr_fpr, lr_tpr, marker='.', label='Logistic')\n",
        "# axis labels\n",
        "pyplot.xlabel('False Positive Rate')\n",
        "pyplot.ylabel('True Positive Rate')\n",
        "# show the legend\n",
        "pyplot.legend()\n",
        "# show the plot\n",
        "pyplot.show()\n",
        "# calculate roc curve\n",
        "fpr, tpr, thresholds = roc_curve(y_test_re, y_predict)\n",
        "auc = roc_auc_score(y_test_re, y_predict)\n",
        "print('AUC: %.3f' % auc)"
      ],
      "metadata": {
        "colab": {
          "base_uri": "https://localhost:8080/",
          "height": 333
        },
        "id": "jqPGi3yCX_19",
        "outputId": "fc7663ca-f719-4b35-da7c-8e1a04a827e6"
      },
      "execution_count": null,
      "outputs": [
        {
          "output_type": "stream",
          "name": "stdout",
          "text": [
            "No Skill: ROC AUC=0.500\n",
            "Logistic: ROC AUC=0.768\n"
          ]
        },
        {
          "output_type": "display_data",
          "data": {
            "text/plain": [
              "<Figure size 432x288 with 1 Axes>"
            ],
            "image/png": "[encoded data removed]"
          },
          "metadata": {
            "needs_background": "light"
          }
        },
        {
          "output_type": "stream",
          "name": "stdout",
          "text": [
            "AUC: 0.695\n"
          ]
        }
      ]
    },
    {
      "cell_type": "markdown",
      "source": [
        "# ***Random Forest***"
      ],
      "metadata": {
        "id": "B1Isf8QIYBe7"
      }
    },
    {
      "cell_type": "code",
      "source": [
        "X_train, X_test, y_train, y_test = train_test_split(X, y, test_size=0.25, random_state=44)\n",
        "rf_model = RandomForestClassifier(n_estimators=50, max_features=\"auto\", random_state=44)\n",
        "rf_model.fit(X_train, y_train)\n",
        "predictions = rf_model.predict(X_test)\n",
        "predictions\n",
        "acc = accuracy_score(predictions , y_test)\n",
        "print(acc)\n",
        "pd.crosstab(y_test,predictions)\n",
        "importance = rf_model.feature_importances_\n",
        "# summarize feature importance\n",
        "for i,v in enumerate(importance):\n",
        "\tprint('Feature: %0d, Score: %.5f' % (i,v))\n",
        "# plot feature importance\n",
        "pyplot.bar([x for x in range(len(importance))], importance)\n",
        "pyplot.show()\n",
        "report = classification_report(y_test, predictions)\n",
        "print(report)\n"
      ],
      "metadata": {
        "colab": {
          "base_uri": "https://localhost:8080/",
          "height": 676
        },
        "id": "WVTrk52qYG8W",
        "outputId": "ca40497d-bfa7-4eff-e3d8-7c5e56d9d950"
      },
      "execution_count": null,
      "outputs": [
        {
          "output_type": "stream",
          "name": "stdout",
          "text": [
            "0.7819728398746456\n",
            "Feature: 0, Score: 0.01971\n",
            "Feature: 1, Score: 0.01959\n",
            "Feature: 2, Score: 0.22045\n",
            "Feature: 3, Score: 0.03700\n",
            "Feature: 4, Score: 0.05034\n",
            "Feature: 5, Score: 0.05684\n",
            "Feature: 6, Score: 0.05885\n",
            "Feature: 7, Score: 0.05171\n",
            "Feature: 8, Score: 0.03251\n",
            "Feature: 9, Score: 0.02641\n",
            "Feature: 10, Score: 0.08414\n",
            "Feature: 11, Score: 0.06711\n",
            "Feature: 12, Score: 0.27536\n"
          ]
        },
        {
          "output_type": "display_data",
          "data": {
            "text/plain": [
              "<Figure size 432x288 with 1 Axes>"
            ],
            "image/png": "[encoded data removed]"
          },
          "metadata": {
            "needs_background": "light"
          }
        },
        {
          "output_type": "stream",
          "name": "stdout",
          "text": [
            "              precision    recall  f1-score   support\n",
            "\n",
            "           0       0.81      0.96      0.87      5316\n",
            "           1       0.40      0.12      0.18      1385\n",
            "\n",
            "    accuracy                           0.78      6701\n",
            "   macro avg       0.61      0.54      0.53      6701\n",
            "weighted avg       0.72      0.78      0.73      6701\n",
            "\n"
          ]
        }
      ]
    },
    {
      "cell_type": "code",
      "source": [
        "ns_probs = [0 for _ in range(len(y_test))]\n",
        "lr_probs = rf_model.predict_proba(X_test)\n",
        "# keep probabilities for the positive outcome only\n",
        "lr_probs = lr_probs[:, 1]\n",
        "# calculate scores\n",
        "ns_auc = roc_auc_score(y_test, ns_probs)\n",
        "lr_auc = roc_auc_score(y_test, lr_probs)\n",
        "# summarize scores\n",
        "print('No Skill: ROC AUC=%.3f' % (ns_auc))\n",
        "print('Logistic: ROC AUC=%.3f' % (lr_auc))\n",
        "# calculate roc curves\n",
        "ns_fpr, ns_tpr, _ = roc_curve(y_test, ns_probs)\n",
        "lr_fpr, lr_tpr, _ = roc_curve(y_test, lr_probs)\n",
        "# plot the roc curve for the model\n",
        "pyplot.plot(ns_fpr, ns_tpr, linestyle='--', label='No Skill')\n",
        "pyplot.plot(lr_fpr, lr_tpr, marker='.', label='Logistic')\n",
        "# axis labels\n",
        "pyplot.xlabel('False Positive Rate')\n",
        "pyplot.ylabel('True Positive Rate')\n",
        "# show the legend\n",
        "pyplot.legend()\n",
        "# show the plot\n",
        "pyplot.show()\n",
        "# calculate roc curve\n",
        "fpr, tpr, thresholds = roc_curve(y_test, predictions)\n",
        "auc = roc_auc_score(y_test, predictions)\n",
        "print('AUC: %.3f' % auc)"
      ],
      "metadata": {
        "colab": {
          "base_uri": "https://localhost:8080/",
          "height": 333
        },
        "id": "BYTBaWJ_YLOk",
        "outputId": "4d14763a-a87e-4480-c583-6af8fcbd0c82"
      },
      "execution_count": null,
      "outputs": [
        {
          "output_type": "stream",
          "name": "stdout",
          "text": [
            "No Skill: ROC AUC=0.500\n",
            "Logistic: ROC AUC=0.662\n"
          ]
        },
        {
          "output_type": "display_data",
          "data": {
            "text/plain": [
              "<Figure size 432x288 with 1 Axes>"
            ],
            "image/png": "[encoded data removed]"
          },
          "metadata": {
            "needs_background": "light"
          }
        },
        {
          "output_type": "stream",
          "name": "stdout",
          "text": [
            "AUC: 0.536\n"
          ]
        }
      ]
    },
    {
      "cell_type": "markdown",
      "source": [
        "# ***Random Forest with K-fold***"
      ],
      "metadata": {
        "id": "PfXoKgmYYNhc"
      }
    },
    {
      "cell_type": "code",
      "source": [
        "k = 10\n",
        "kf = KFold(n_splits=k, random_state=None)\n",
        "model_2 = RandomForestClassifier(n_estimators=50, max_features=\"auto\", random_state=44)\n",
        " \n",
        "acc_score = []\n",
        "\n",
        "for train_index , test_index in kf.split(X):\n",
        "    X_train , X_test = X.iloc[train_index,:],X.iloc[test_index,:]\n",
        "    y_train , y_test = y[train_index] , y[test_index]\n",
        "     \n",
        "    model_2.fit(X_train,y_train)\n",
        "    pred_values = model_2.predict(X_test)\n",
        "     \n",
        "    acc = accuracy_score(pred_values , y_test)\n",
        "    acc_score.append(acc)\n",
        "    cm = confusion_matrix(y_test, pred_values)\n",
        "    print(\"Random Forest\")\n",
        "    report = classification_report(y_test, pred_values)\n",
        "    print(report)\n",
        "     \n",
        "avg_acc_score = sum(acc_score)/k\n",
        " \n",
        "print('accuracy of each fold - {}'.format(acc_score))\n",
        "print('Avg accuracy : {}'.format(avg_acc_score))"
      ],
      "metadata": {
        "colab": {
          "base_uri": "https://localhost:8080/"
        },
        "id": "7lJnZkzcYM6q",
        "outputId": "861aa793-b318-4473-b599-8bbd50a2e650"
      },
      "execution_count": null,
      "outputs": [
        {
          "output_type": "stream",
          "name": "stdout",
          "text": [
            "Random Forest\n",
            "              precision    recall  f1-score   support\n",
            "\n",
            "           0       0.83      0.97      0.89      2187\n",
            "           1       0.49      0.14      0.22       494\n",
            "\n",
            "    accuracy                           0.81      2681\n",
            "   macro avg       0.66      0.55      0.56      2681\n",
            "weighted avg       0.77      0.81      0.77      2681\n",
            "\n",
            "Random Forest\n",
            "              precision    recall  f1-score   support\n",
            "\n",
            "           0       0.83      0.95      0.89      2196\n",
            "           1       0.41      0.14      0.21       485\n",
            "\n",
            "    accuracy                           0.81      2681\n",
            "   macro avg       0.62      0.55      0.55      2681\n",
            "weighted avg       0.76      0.81      0.77      2681\n",
            "\n",
            "Random Forest\n",
            "              precision    recall  f1-score   support\n",
            "\n",
            "           0       0.84      0.95      0.89      2213\n",
            "           1       0.40      0.16      0.23       468\n",
            "\n",
            "    accuracy                           0.81      2681\n",
            "   macro avg       0.62      0.55      0.56      2681\n",
            "weighted avg       0.77      0.81      0.78      2681\n",
            "\n",
            "Random Forest\n",
            "              precision    recall  f1-score   support\n",
            "\n",
            "           0       0.83      0.95      0.89      2192\n",
            "           1       0.38      0.13      0.20       488\n",
            "\n",
            "    accuracy                           0.80      2680\n",
            "   macro avg       0.60      0.54      0.54      2680\n",
            "weighted avg       0.75      0.80      0.76      2680\n",
            "\n",
            "Random Forest\n",
            "              precision    recall  f1-score   support\n",
            "\n",
            "           0       0.83      0.97      0.89      2177\n",
            "           1       0.51      0.15      0.24       503\n",
            "\n",
            "    accuracy                           0.81      2680\n",
            "   macro avg       0.67      0.56      0.56      2680\n",
            "weighted avg       0.77      0.81      0.77      2680\n",
            "\n",
            "Random Forest\n",
            "              precision    recall  f1-score   support\n",
            "\n",
            "           0       0.82      0.96      0.89      2159\n",
            "           1       0.47      0.15      0.22       521\n",
            "\n",
            "    accuracy                           0.80      2680\n",
            "   macro avg       0.65      0.55      0.55      2680\n",
            "weighted avg       0.76      0.80      0.76      2680\n",
            "\n",
            "Random Forest\n",
            "              precision    recall  f1-score   support\n",
            "\n",
            "           0       0.82      0.94      0.87      2152\n",
            "           1       0.37      0.14      0.20       528\n",
            "\n",
            "    accuracy                           0.78      2680\n",
            "   macro avg       0.59      0.54      0.54      2680\n",
            "weighted avg       0.73      0.78      0.74      2680\n",
            "\n",
            "Random Forest\n",
            "              precision    recall  f1-score   support\n",
            "\n",
            "           0       0.77      0.96      0.86      2036\n",
            "           1       0.46      0.11      0.18       644\n",
            "\n",
            "    accuracy                           0.76      2680\n",
            "   macro avg       0.62      0.54      0.52      2680\n",
            "weighted avg       0.70      0.76      0.69      2680\n",
            "\n",
            "Random Forest\n",
            "              precision    recall  f1-score   support\n",
            "\n",
            "           0       0.79      0.96      0.87      2092\n",
            "           1       0.43      0.12      0.19       588\n",
            "\n",
            "    accuracy                           0.77      2680\n",
            "   macro avg       0.61      0.54      0.53      2680\n",
            "weighted avg       0.71      0.77      0.72      2680\n",
            "\n",
            "Random Forest\n",
            "              precision    recall  f1-score   support\n",
            "\n",
            "           0       0.79      0.96      0.87      2063\n",
            "           1       0.52      0.14      0.22       617\n",
            "\n",
            "    accuracy                           0.77      2680\n",
            "   macro avg       0.66      0.55      0.55      2680\n",
            "weighted avg       0.73      0.77      0.72      2680\n",
            "\n",
            "accuracy of each fold - [0.8142484147706079, 0.8079074972025364, 0.8116374487131667, 0.8022388059701493, 0.8134328358208955, 0.8022388059701493, 0.7835820895522388, 0.755223880597015, 0.7720149253731343, 0.7723880597014925]\n",
            "Avg accuracy : 0.7934912763671385\n"
          ]
        }
      ]
    },
    {
      "cell_type": "markdown",
      "source": [
        "# ***Random Forest With Under Sampling***"
      ],
      "metadata": {
        "id": "RSyxRiJHYWGq"
      }
    },
    {
      "cell_type": "code",
      "source": [
        "ros=RandomUnderSampler(random_state=0)\n",
        "X_re,y_rr=ros.fit_resample(X,y)\n",
        "X_train_re, X_test_re, y_train_re, y_test_re = train_test_split(X_re, y_rr, test_size=0.25,random_state=109)"
      ],
      "metadata": {
        "id": "6bH28S0MYWOM"
      },
      "execution_count": null,
      "outputs": []
    },
    {
      "cell_type": "code",
      "source": [
        "rf_model = RandomForestClassifier(n_estimators=50, max_features=\"auto\", random_state=44)\n",
        "rf_model.fit(X_train_re, y_train_re)\n",
        "predictions = rf_model.predict(X_test_re)\n",
        "predictions\n",
        "acc = accuracy_score(predictions , y_test_re)\n",
        "print(acc)\n",
        "pd.crosstab(y_test_re,predictions)\n",
        "importance = rf_model.feature_importances_\n",
        "# summarize feature importance\n",
        "for i,v in enumerate(importance):\n",
        "\tprint('Feature: %0d, Score: %.5f' % (i,v))\n",
        "# plot feature importance\n",
        "pyplot.bar([x for x in range(len(importance))], importance)\n",
        "pyplot.show()\n",
        "report = classification_report(y_test_re, predictions)\n",
        "print(report)\n"
      ],
      "metadata": {
        "colab": {
          "base_uri": "https://localhost:8080/",
          "height": 676
        },
        "id": "4obwVm4wYc9-",
        "outputId": "9f363c7d-9631-4d61-ead2-5bfcc9be48f1"
      },
      "execution_count": null,
      "outputs": [
        {
          "output_type": "stream",
          "name": "stdout",
          "text": [
            "0.636431784107946\n",
            "Feature: 0, Score: 0.01881\n",
            "Feature: 1, Score: 0.02517\n",
            "Feature: 2, Score: 0.21744\n",
            "Feature: 3, Score: 0.04402\n",
            "Feature: 4, Score: 0.05312\n",
            "Feature: 5, Score: 0.05646\n",
            "Feature: 6, Score: 0.06012\n",
            "Feature: 7, Score: 0.05446\n",
            "Feature: 8, Score: 0.04639\n",
            "Feature: 9, Score: 0.02809\n",
            "Feature: 10, Score: 0.08469\n",
            "Feature: 11, Score: 0.06401\n",
            "Feature: 12, Score: 0.24722\n"
          ]
        },
        {
          "output_type": "display_data",
          "data": {
            "text/plain": [
              "<Figure size 432x288 with 1 Axes>"
            ],
            "image/png": "[encoded data removed]"
          },
          "metadata": {
            "needs_background": "light"
          }
        },
        {
          "output_type": "stream",
          "name": "stdout",
          "text": [
            "              precision    recall  f1-score   support\n",
            "\n",
            "           0       0.62      0.65      0.63      1289\n",
            "           1       0.66      0.63      0.64      1379\n",
            "\n",
            "    accuracy                           0.64      2668\n",
            "   macro avg       0.64      0.64      0.64      2668\n",
            "weighted avg       0.64      0.64      0.64      2668\n",
            "\n"
          ]
        }
      ]
    },
    {
      "cell_type": "code",
      "source": [
        "ns_probs = [0 for _ in range(len(y_test_re))]\n",
        "lr_probs = rf_model.predict_proba(X_test_re)\n",
        "# keep probabilities for the positive outcome only\n",
        "lr_probs = lr_probs[:, 1]\n",
        "# calculate scores\n",
        "ns_auc = roc_auc_score(y_test_re, ns_probs)\n",
        "lr_auc = roc_auc_score(y_test_re, lr_probs)\n",
        "# summarize scores\n",
        "print('No Skill: ROC AUC=%.3f' % (ns_auc))\n",
        "print('Logistic: ROC AUC=%.3f' % (lr_auc))\n",
        "# calculate roc curves\n",
        "ns_fpr, ns_tpr, _ = roc_curve(y_test_re, ns_probs)\n",
        "lr_fpr, lr_tpr, _ = roc_curve(y_test_re, lr_probs)\n",
        "# plot the roc curve for the model\n",
        "pyplot.plot(ns_fpr, ns_tpr, linestyle='--', label='No Skill')\n",
        "pyplot.plot(lr_fpr, lr_tpr, marker='.', label='Logistic')\n",
        "# axis labels\n",
        "pyplot.xlabel('False Positive Rate')\n",
        "pyplot.ylabel('True Positive Rate')\n",
        "# show the legend\n",
        "pyplot.legend()\n",
        "# show the plot\n",
        "pyplot.show()\n",
        "# calculate roc curve\n",
        "fpr, tpr, thresholds = roc_curve(y_test_re, predictions)\n",
        "auc = roc_auc_score(y_test_re, predictions)\n",
        "print('AUC: %.3f' % auc)"
      ],
      "metadata": {
        "colab": {
          "base_uri": "https://localhost:8080/",
          "height": 333
        },
        "id": "-I5tMuN6Yr7i",
        "outputId": "ee5d11f0-d6df-45a5-dfe7-61980919103a"
      },
      "execution_count": null,
      "outputs": [
        {
          "output_type": "stream",
          "name": "stdout",
          "text": [
            "No Skill: ROC AUC=0.500\n",
            "Logistic: ROC AUC=0.684\n"
          ]
        },
        {
          "output_type": "display_data",
          "data": {
            "text/plain": [
              "<Figure size 432x288 with 1 Axes>"
            ],
            "image/png": "[encoded data removed]"
          },
          "metadata": {
            "needs_background": "light"
          }
        },
        {
          "output_type": "stream",
          "name": "stdout",
          "text": [
            "AUC: 0.637\n"
          ]
        }
      ]
    },
    {
      "cell_type": "markdown",
      "source": [
        "# ***Random Forest with Over Sampling***"
      ],
      "metadata": {
        "id": "q9u_GLwOY19-"
      }
    },
    {
      "cell_type": "code",
      "source": [
        "ros=RandomOverSampler(random_state=0)\n",
        "X_re,y_rr=ros.fit_resample(X,y)\n",
        "X_train_re, X_test_re, y_train_re, y_test_re = train_test_split(X_re, y_rr, test_size=0.25,random_state=109)"
      ],
      "metadata": {
        "id": "3Pb2UoIrY6eP"
      },
      "execution_count": null,
      "outputs": []
    },
    {
      "cell_type": "code",
      "source": [
        "rf_model = RandomForestClassifier(n_estimators=50, max_features=\"auto\", random_state=44)\n",
        "rf_model.fit(X_train_re, y_train_re)\n",
        "predictions = rf_model.predict(X_test_re)\n",
        "predictions\n",
        "acc = accuracy_score(predictions , y_test_re)\n",
        "print(acc)\n",
        "pd.crosstab(y_test_re,predictions)\n",
        "importance = rf_model.feature_importances_\n",
        "# summarize feature importance\n",
        "for i,v in enumerate(importance):\n",
        "\tprint('Feature: %0d, Score: %.5f' % (i,v))\n",
        "# plot feature importance\n",
        "pyplot.bar([x for x in range(len(importance))], importance)\n",
        "pyplot.show()\n",
        "report = classification_report(y_test_re, predictions)\n",
        "print(report)\n"
      ],
      "metadata": {
        "colab": {
          "base_uri": "https://localhost:8080/",
          "height": 676
        },
        "id": "JzMU8_awY9hT",
        "outputId": "1577dc01-4e76-40c1-ab19-327404ae14ce"
      },
      "execution_count": null,
      "outputs": [
        {
          "output_type": "stream",
          "name": "stdout",
          "text": [
            "0.9231414197875908\n",
            "Feature: 0, Score: 0.01788\n",
            "Feature: 1, Score: 0.02417\n",
            "Feature: 2, Score: 0.22892\n",
            "Feature: 3, Score: 0.03860\n",
            "Feature: 4, Score: 0.05006\n",
            "Feature: 5, Score: 0.05514\n",
            "Feature: 6, Score: 0.05487\n",
            "Feature: 7, Score: 0.04774\n",
            "Feature: 8, Score: 0.04138\n",
            "Feature: 9, Score: 0.02548\n",
            "Feature: 10, Score: 0.08468\n",
            "Feature: 11, Score: 0.06242\n",
            "Feature: 12, Score: 0.26865\n"
          ]
        },
        {
          "output_type": "display_data",
          "data": {
            "text/plain": [
              "<Figure size 432x288 with 1 Axes>"
            ],
            "image/png": "[encoded data removed]"
          },
          "metadata": {
            "needs_background": "light"
          }
        },
        {
          "output_type": "stream",
          "name": "stdout",
          "text": [
            "              precision    recall  f1-score   support\n",
            "\n",
            "           0       0.97      0.87      0.92      5331\n",
            "           1       0.89      0.97      0.93      5403\n",
            "\n",
            "    accuracy                           0.92     10734\n",
            "   macro avg       0.93      0.92      0.92     10734\n",
            "weighted avg       0.93      0.92      0.92     10734\n",
            "\n"
          ]
        }
      ]
    },
    {
      "cell_type": "code",
      "source": [
        "ns_probs = [0 for _ in range(len(y_test_re))]\n",
        "lr_probs = rf_model.predict_proba(X_test_re)\n",
        "# keep probabilities for the positive outcome only\n",
        "lr_probs = lr_probs[:, 1]\n",
        "# calculate scores\n",
        "ns_auc = roc_auc_score(y_test_re, ns_probs)\n",
        "lr_auc = roc_auc_score(y_test_re, lr_probs)\n",
        "# summarize scores\n",
        "print('No Skill: ROC AUC=%.3f' % (ns_auc))\n",
        "print('Logistic: ROC AUC=%.3f' % (lr_auc))\n",
        "# calculate roc curves\n",
        "ns_fpr, ns_tpr, _ = roc_curve(y_test_re, ns_probs)\n",
        "lr_fpr, lr_tpr, _ = roc_curve(y_test_re, lr_probs)\n",
        "# plot the roc curve for the model\n",
        "pyplot.plot(ns_fpr, ns_tpr, linestyle='--', label='No Skill')\n",
        "pyplot.plot(lr_fpr, lr_tpr, marker='.', label='Logistic')\n",
        "# axis labels\n",
        "pyplot.xlabel('False Positive Rate')\n",
        "pyplot.ylabel('True Positive Rate')\n",
        "# show the legend\n",
        "pyplot.legend()\n",
        "# show the plot\n",
        "pyplot.show()\n",
        "# calculate roc curve\n",
        "fpr, tpr, thresholds = roc_curve(y_test_re, predictions)\n",
        "auc = roc_auc_score(y_test_re, predictions)\n",
        "print('AUC: %.3f' % auc)"
      ],
      "metadata": {
        "colab": {
          "base_uri": "https://localhost:8080/",
          "height": 333
        },
        "id": "nMJAbVHMZBIB",
        "outputId": "170f0abf-881d-4976-f80c-f1ad83c8cc95"
      },
      "execution_count": null,
      "outputs": [
        {
          "output_type": "stream",
          "name": "stdout",
          "text": [
            "No Skill: ROC AUC=0.500\n",
            "Logistic: ROC AUC=0.984\n"
          ]
        },
        {
          "output_type": "display_data",
          "data": {
            "text/plain": [
              "<Figure size 432x288 with 1 Axes>"
            ],
            "image/png": "[encoded data removed]"
          },
          "metadata": {
            "needs_background": "light"
          }
        },
        {
          "output_type": "stream",
          "name": "stdout",
          "text": [
            "AUC: 0.923\n"
          ]
        }
      ]
    }
  ]
}